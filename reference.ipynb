{
  "nbformat": 4,
  "nbformat_minor": 0,
  "metadata": {
    "colab": {
      "provenance": [],
      "authorship_tag": "ABX9TyOumuBSOwqGNAlkoomW3GsN",
      "include_colab_link": true
    },
    "kernelspec": {
      "name": "python3",
      "display_name": "Python 3"
    },
    "language_info": {
      "name": "python"
    }
  },
  "cells": [
    {
      "cell_type": "markdown",
      "metadata": {
        "id": "view-in-github",
        "colab_type": "text"
      },
      "source": [
        "<a href=\"https://colab.research.google.com/github/MINJILEE-PURDUE/erc_tree_semantic_segmentation_in_mlops/blob/main/reference.ipynb\" target=\"_parent\"><img src=\"https://colab.research.google.com/assets/colab-badge.svg\" alt=\"Open In Colab\"/></a>"
      ]
    },
    {
      "cell_type": "code",
      "source": [
        "!pip install opencv-python-headless matplotlib"
      ],
      "metadata": {
        "colab": {
          "base_uri": "https://localhost:8080/"
        },
        "id": "Gvj5rkgoIXBQ",
        "outputId": "8e468987-1970-4efc-be82-c50ea755a52d"
      },
      "execution_count": null,
      "outputs": [
        {
          "output_type": "stream",
          "name": "stdout",
          "text": [
            "Requirement already satisfied: opencv-python-headless in /usr/local/lib/python3.10/dist-packages (4.10.0.84)\n",
            "Requirement already satisfied: matplotlib in /usr/local/lib/python3.10/dist-packages (3.8.0)\n",
            "Requirement already satisfied: numpy>=1.21.2 in /usr/local/lib/python3.10/dist-packages (from opencv-python-headless) (1.26.4)\n",
            "Requirement already satisfied: contourpy>=1.0.1 in /usr/local/lib/python3.10/dist-packages (from matplotlib) (1.3.1)\n",
            "Requirement already satisfied: cycler>=0.10 in /usr/local/lib/python3.10/dist-packages (from matplotlib) (0.12.1)\n",
            "Requirement already satisfied: fonttools>=4.22.0 in /usr/local/lib/python3.10/dist-packages (from matplotlib) (4.55.3)\n",
            "Requirement already satisfied: kiwisolver>=1.0.1 in /usr/local/lib/python3.10/dist-packages (from matplotlib) (1.4.7)\n",
            "Requirement already satisfied: packaging>=20.0 in /usr/local/lib/python3.10/dist-packages (from matplotlib) (24.2)\n",
            "Requirement already satisfied: pillow>=6.2.0 in /usr/local/lib/python3.10/dist-packages (from matplotlib) (11.0.0)\n",
            "Requirement already satisfied: pyparsing>=2.3.1 in /usr/local/lib/python3.10/dist-packages (from matplotlib) (3.2.0)\n",
            "Requirement already satisfied: python-dateutil>=2.7 in /usr/local/lib/python3.10/dist-packages (from matplotlib) (2.8.2)\n",
            "Requirement already satisfied: six>=1.5 in /usr/local/lib/python3.10/dist-packages (from python-dateutil>=2.7->matplotlib) (1.17.0)\n"
          ]
        }
      ]
    },
    {
      "cell_type": "code",
      "execution_count": null,
      "metadata": {
        "colab": {
          "base_uri": "https://localhost:8080/",
          "height": 90
        },
        "id": "7s2L6PLGIECM",
        "outputId": "e716efb4-ea0d-489c-c110-76654871500d"
      },
      "outputs": [
        {
          "output_type": "display_data",
          "data": {
            "text/plain": [
              "<IPython.core.display.HTML object>"
            ],
            "text/html": [
              "\n",
              "     <input type=\"file\" id=\"files-f354a9a6-e379-4043-81a6-7a37216484f2\" name=\"files[]\" multiple disabled\n",
              "        style=\"border:none\" />\n",
              "     <output id=\"result-f354a9a6-e379-4043-81a6-7a37216484f2\">\n",
              "      Upload widget is only available when the cell has been executed in the\n",
              "      current browser session. Please rerun this cell to enable.\n",
              "      </output>\n",
              "      <script>// Copyright 2017 Google LLC\n",
              "//\n",
              "// Licensed under the Apache License, Version 2.0 (the \"License\");\n",
              "// you may not use this file except in compliance with the License.\n",
              "// You may obtain a copy of the License at\n",
              "//\n",
              "//      http://www.apache.org/licenses/LICENSE-2.0\n",
              "//\n",
              "// Unless required by applicable law or agreed to in writing, software\n",
              "// distributed under the License is distributed on an \"AS IS\" BASIS,\n",
              "// WITHOUT WARRANTIES OR CONDITIONS OF ANY KIND, either express or implied.\n",
              "// See the License for the specific language governing permissions and\n",
              "// limitations under the License.\n",
              "\n",
              "/**\n",
              " * @fileoverview Helpers for google.colab Python module.\n",
              " */\n",
              "(function(scope) {\n",
              "function span(text, styleAttributes = {}) {\n",
              "  const element = document.createElement('span');\n",
              "  element.textContent = text;\n",
              "  for (const key of Object.keys(styleAttributes)) {\n",
              "    element.style[key] = styleAttributes[key];\n",
              "  }\n",
              "  return element;\n",
              "}\n",
              "\n",
              "// Max number of bytes which will be uploaded at a time.\n",
              "const MAX_PAYLOAD_SIZE = 100 * 1024;\n",
              "\n",
              "function _uploadFiles(inputId, outputId) {\n",
              "  const steps = uploadFilesStep(inputId, outputId);\n",
              "  const outputElement = document.getElementById(outputId);\n",
              "  // Cache steps on the outputElement to make it available for the next call\n",
              "  // to uploadFilesContinue from Python.\n",
              "  outputElement.steps = steps;\n",
              "\n",
              "  return _uploadFilesContinue(outputId);\n",
              "}\n",
              "\n",
              "// This is roughly an async generator (not supported in the browser yet),\n",
              "// where there are multiple asynchronous steps and the Python side is going\n",
              "// to poll for completion of each step.\n",
              "// This uses a Promise to block the python side on completion of each step,\n",
              "// then passes the result of the previous step as the input to the next step.\n",
              "function _uploadFilesContinue(outputId) {\n",
              "  const outputElement = document.getElementById(outputId);\n",
              "  const steps = outputElement.steps;\n",
              "\n",
              "  const next = steps.next(outputElement.lastPromiseValue);\n",
              "  return Promise.resolve(next.value.promise).then((value) => {\n",
              "    // Cache the last promise value to make it available to the next\n",
              "    // step of the generator.\n",
              "    outputElement.lastPromiseValue = value;\n",
              "    return next.value.response;\n",
              "  });\n",
              "}\n",
              "\n",
              "/**\n",
              " * Generator function which is called between each async step of the upload\n",
              " * process.\n",
              " * @param {string} inputId Element ID of the input file picker element.\n",
              " * @param {string} outputId Element ID of the output display.\n",
              " * @return {!Iterable<!Object>} Iterable of next steps.\n",
              " */\n",
              "function* uploadFilesStep(inputId, outputId) {\n",
              "  const inputElement = document.getElementById(inputId);\n",
              "  inputElement.disabled = false;\n",
              "\n",
              "  const outputElement = document.getElementById(outputId);\n",
              "  outputElement.innerHTML = '';\n",
              "\n",
              "  const pickedPromise = new Promise((resolve) => {\n",
              "    inputElement.addEventListener('change', (e) => {\n",
              "      resolve(e.target.files);\n",
              "    });\n",
              "  });\n",
              "\n",
              "  const cancel = document.createElement('button');\n",
              "  inputElement.parentElement.appendChild(cancel);\n",
              "  cancel.textContent = 'Cancel upload';\n",
              "  const cancelPromise = new Promise((resolve) => {\n",
              "    cancel.onclick = () => {\n",
              "      resolve(null);\n",
              "    };\n",
              "  });\n",
              "\n",
              "  // Wait for the user to pick the files.\n",
              "  const files = yield {\n",
              "    promise: Promise.race([pickedPromise, cancelPromise]),\n",
              "    response: {\n",
              "      action: 'starting',\n",
              "    }\n",
              "  };\n",
              "\n",
              "  cancel.remove();\n",
              "\n",
              "  // Disable the input element since further picks are not allowed.\n",
              "  inputElement.disabled = true;\n",
              "\n",
              "  if (!files) {\n",
              "    return {\n",
              "      response: {\n",
              "        action: 'complete',\n",
              "      }\n",
              "    };\n",
              "  }\n",
              "\n",
              "  for (const file of files) {\n",
              "    const li = document.createElement('li');\n",
              "    li.append(span(file.name, {fontWeight: 'bold'}));\n",
              "    li.append(span(\n",
              "        `(${file.type || 'n/a'}) - ${file.size} bytes, ` +\n",
              "        `last modified: ${\n",
              "            file.lastModifiedDate ? file.lastModifiedDate.toLocaleDateString() :\n",
              "                                    'n/a'} - `));\n",
              "    const percent = span('0% done');\n",
              "    li.appendChild(percent);\n",
              "\n",
              "    outputElement.appendChild(li);\n",
              "\n",
              "    const fileDataPromise = new Promise((resolve) => {\n",
              "      const reader = new FileReader();\n",
              "      reader.onload = (e) => {\n",
              "        resolve(e.target.result);\n",
              "      };\n",
              "      reader.readAsArrayBuffer(file);\n",
              "    });\n",
              "    // Wait for the data to be ready.\n",
              "    let fileData = yield {\n",
              "      promise: fileDataPromise,\n",
              "      response: {\n",
              "        action: 'continue',\n",
              "      }\n",
              "    };\n",
              "\n",
              "    // Use a chunked sending to avoid message size limits. See b/62115660.\n",
              "    let position = 0;\n",
              "    do {\n",
              "      const length = Math.min(fileData.byteLength - position, MAX_PAYLOAD_SIZE);\n",
              "      const chunk = new Uint8Array(fileData, position, length);\n",
              "      position += length;\n",
              "\n",
              "      const base64 = btoa(String.fromCharCode.apply(null, chunk));\n",
              "      yield {\n",
              "        response: {\n",
              "          action: 'append',\n",
              "          file: file.name,\n",
              "          data: base64,\n",
              "        },\n",
              "      };\n",
              "\n",
              "      let percentDone = fileData.byteLength === 0 ?\n",
              "          100 :\n",
              "          Math.round((position / fileData.byteLength) * 100);\n",
              "      percent.textContent = `${percentDone}% done`;\n",
              "\n",
              "    } while (position < fileData.byteLength);\n",
              "  }\n",
              "\n",
              "  // All done.\n",
              "  yield {\n",
              "    response: {\n",
              "      action: 'complete',\n",
              "    }\n",
              "  };\n",
              "}\n",
              "\n",
              "scope.google = scope.google || {};\n",
              "scope.google.colab = scope.google.colab || {};\n",
              "scope.google.colab._files = {\n",
              "  _uploadFiles,\n",
              "  _uploadFilesContinue,\n",
              "};\n",
              "})(self);\n",
              "</script> "
            ]
          },
          "metadata": {}
        },
        {
          "output_type": "stream",
          "name": "stdout",
          "text": [
            "Saving MAX_0022_enhanced_final.png to MAX_0022_enhanced_final.png\n",
            "Uploaded file: MAX_0022_enhanced_final.png\n"
          ]
        }
      ],
      "source": [
        "from google.colab import files\n",
        "\n",
        "# Upload the image\n",
        "uploaded = files.upload()\n",
        "\n",
        "# List the uploaded files (optional)\n",
        "for file_name in uploaded.keys():\n",
        "    print(f\"Uploaded file: {file_name}\")\n"
      ]
    },
    {
      "cell_type": "code",
      "source": [
        "import cv2\n",
        "import numpy as np\n",
        "import matplotlib.pyplot as plt\n",
        "\n",
        "# Load the image\n",
        "image = cv2.imread(list(uploaded.keys())[0])\n",
        "\n",
        "# Convert the image to grayscale\n",
        "# The error was caused because 'uploaded' is a dictionary, not the image data.\n",
        "# 'image' is the variable holding the image data loaded by cv2.imread.\n",
        "gray = cv2.cvtColor(image, cv2.COLOR_BGR2GRAY)\n",
        "\n",
        "# Threshold the image to separate regions\n",
        "_, thresh = cv2.threshold(gray, 1, 255, cv2.THRESH_BINARY)\n",
        "\n",
        "# Find contours\n",
        "contours, _ = cv2.findContours(thresh, cv2.RETR_EXTERNAL, cv2.CHAIN_APPROX_SIMPLE)\n",
        "\n",
        "# Create a blank image for drawing contours\n",
        "contour_image = np.zeros_like(image)\n",
        "\n",
        "# Draw contours on the blank image\n",
        "cv2.drawContours(contour_image, contours, -1, (255, 255, 255), 2)\n",
        "\n",
        "# Plot the original and the contour image\n",
        "plt.figure(figsize=(10, 5))\n",
        "plt.subplot(1, 2, 1)\n",
        "plt.title('Original Image')\n",
        "plt.imshow(cv2.cvtColor(image, cv2.COLOR_BGR2RGB))\n",
        "plt.axis('off')\n",
        "\n",
        "plt.subplot(1, 2, 2)\n",
        "plt.title('Contours')\n",
        "plt.imshow(cv2.cvtColor(contour_image, cv2.COLOR_BGR2RGB))\n",
        "plt.axis('off')\n",
        "\n",
        "plt.show()"
      ],
      "metadata": {
        "colab": {
          "base_uri": "https://localhost:8080/",
          "height": 294
        },
        "id": "yDJ2e8rPInHb",
        "outputId": "47416b80-f670-4c0d-91ca-dbeeff97fe1f"
      },
      "execution_count": null,
      "outputs": [
        {
          "output_type": "display_data",
          "data": {
            "text/plain": [
              "<Figure size 1000x500 with 2 Axes>"
            ],
            "image/png": "[encoded data removed]"
          },
          "metadata": {}
        }
      ]
    },
    {
      "cell_type": "code",
      "source": [
        "import cv2\n",
        "import numpy as np\n",
        "import matplotlib.pyplot as plt\n",
        "\n",
        "# Load the original image (update the filename if necessary)\n",
        "image = cv2.imread(list(uploaded.keys())[0])\n",
        "\n",
        "# Convert the image to RGB (for proper color display in matplotlib)\n",
        "image_rgb = cv2.cvtColor(image, cv2.COLOR_BGR2RGB)\n",
        "\n",
        "# Create a blank image with the same shape as the original image\n",
        "contour_image = np.zeros_like(image)\n",
        "\n",
        "line_thickness = 5\n",
        "\n",
        "# Loop through each color channel (R, G, B)\n",
        "for i in range(3):  # Assuming the image has 3 channels\n",
        "    # Threshold each channel separately\n",
        "    _, thresh = cv2.threshold(image[:, :, i], 1, 255, cv2.THRESH_BINARY)\n",
        "\n",
        "    # Find contours in the thresholded channel\n",
        "    contours, _ = cv2.findContours(thresh, cv2.RETR_EXTERNAL, cv2.CHAIN_APPROX_SIMPLE)\n",
        "\n",
        "    # Draw contours on a temporary copy of the contour image for the current channel\n",
        "    temp_image = contour_image.copy()  # Create a copy to avoid modifying the original\n",
        "    cv2.drawContours(temp_image, contours, -1, (255, 255, 255), 10) # Draw on the copy\n",
        "    # Assign the modified channel back to the contour_image\n",
        "    contour_image[:, :, i] = temp_image[:, :, i] # Update the contour_image\n",
        "\n",
        "# Plot the original image and the color contour image\n",
        "plt.figure(figsize=(10, 5))\n",
        "\n",
        "plt.subplot(1, 2, 1)\n",
        "plt.title('Original Image')\n",
        "plt.imshow(image_rgb)\n",
        "plt.axis('off')\n",
        "\n",
        "plt.subplot(1, 2, 2)\n",
        "plt.title('Color Contours')\n",
        "plt.imshow(cv2.cvtColor(contour_image, cv2.COLOR_BGR2RGB))\n",
        "plt.axis('off')\n",
        "\n",
        "plt.show()"
      ],
      "metadata": {
        "colab": {
          "base_uri": "https://localhost:8080/",
          "height": 294
        },
        "id": "x8RIlfT9JD2G",
        "outputId": "b494a6ae-06e0-4222-d413-8a1d1fd036de"
      },
      "execution_count": null,
      "outputs": [
        {
          "output_type": "display_data",
          "data": {
            "text/plain": [
              "<Figure size 1000x500 with 2 Axes>"
            ],
            "image/png": "[encoded data removed]"
          },
          "metadata": {}
        }
      ]
    },
    {
      "cell_type": "code",
      "source": [
        "import cv2\n",
        "import numpy as np\n",
        "import matplotlib.pyplot as plt\n",
        "\n",
        "# Load the original image (update the filename if necessary)\n",
        "# Instead of directly using a filename, use the uploaded image like before\n",
        "image = cv2.imread(list(uploaded.keys())[0])\n",
        "\n",
        "# Check if the image was loaded successfully\n",
        "if image is None:\n",
        "    print(\"Error: Image could not be loaded. Please check the filename or file path.\")\n",
        "else:\n",
        "    # Convert the image to RGB (for proper color display in matplotlib)\n",
        "    image_rgb = cv2.cvtColor(image, cv2.COLOR_BGR2RGB)\n",
        "\n",
        "    # Create a copy of the image for bounding box visualization\n",
        "    bbox_image = image_rgb.copy()\n",
        "\n",
        "    # Loop through each color channel (R, G, B)\n",
        "    for i in range(3):  # Assuming the image has 3 channels\n",
        "        # Threshold each channel separately\n",
        "        _, thresh = cv2.threshold(image[:, :, i], 1, 255, cv2.THRESH_BINARY)\n",
        "\n",
        "        # Find contours in the thresholded channel\n",
        "        contours, _ = cv2.findContours(thresh, cv2.RETR_EXTERNAL, cv2.CHAIN_APPROX_SIMPLE)\n",
        "\n",
        "        # Draw bounding boxes for each contour\n",
        "        for contour in contours:\n",
        "            x, y, w, h = cv2.boundingRect(contour)  # Get bounding box\n",
        "            cv2.rectangle(bbox_image, (x, y), (x + w, y + h), (255, 0, 0), 10)  # Draw rectangle (color: blue)\n",
        "\n",
        "    # Plot the original image and the image with bounding boxes\n",
        "    plt.figure(figsize=(10, 5))\n",
        "\n",
        "    plt.subplot(1, 2, 1)\n",
        "    plt.title('Original Image')\n",
        "    plt.imshow(image_rgb)\n",
        "    plt.axis('off')\n",
        "\n",
        "    plt.subplot(1, 2, 2)\n",
        "    plt.title('Bounding Boxes')\n",
        "    plt.imshow(bbox_image)\n",
        "    plt.axis('off')\n",
        "\n",
        "    plt.show()"
      ],
      "metadata": {
        "colab": {
          "base_uri": "https://localhost:8080/",
          "height": 294
        },
        "id": "JyUCdT8aOI8W",
        "outputId": "7c040101-9741-4b67-beba-8d10aa049cf1"
      },
      "execution_count": null,
      "outputs": [
        {
          "output_type": "display_data",
          "data": {
            "text/plain": [
              "<Figure size 1000x500 with 2 Axes>"
            ],
            "image/png": "[encoded data removed]"
          },
          "metadata": {}
        }
      ]
    },
    {
      "cell_type": "code",
      "source": [
        "# Function to convert RGB to a hex color\n",
        "def rgb_to_hex(color):\n",
        "    return \"#{:02x}{:02x}{:02x}\".format(color[0], color[1], color[2])\n",
        "\n",
        "# Define a mapping of hex codes to color names\n",
        "color_map = {\n",
        "    \"#ff0000\": \"Red\",\n",
        "    \"#00ff00\": \"Green\",\n",
        "    \"#0000ff\": \"Blue\",\n",
        "    \"#ffffff\": \"White\",\n",
        "    \"#00ffcc\": \"Cyan\",\n",
        "    \"#ff00cc\": \"Magenta\",\n",
        "    \"#ffcc00\": \"Yellow\",\n",
        "    \"#ff6600\": \"Orange\",\n",
        "    # Add more colors if needed\n",
        "}\n",
        "\n",
        "# Dictionary to store the results\n",
        "bounding_boxes = []\n",
        "\n",
        "# Loop through each color channel (R, G, B)\n",
        "for i in range(3):  # Assuming the image has 3 channels\n",
        "    # Threshold each channel separately\n",
        "    _, thresh = cv2.threshold(image[:, :, i], 1, 255, cv2.THRESH_BINARY)\n",
        "\n",
        "    # Find contours in the thresholded channel\n",
        "    contours, _ = cv2.findContours(thresh, cv2.RETR_EXTERNAL, cv2.CHAIN_APPROX_SIMPLE)\n",
        "\n",
        "    # Process each contour\n",
        "    for contour in contours:\n",
        "        x, y, w, h = cv2.boundingRect(contour)  # Get bounding box\n",
        "        # Get the color at the center of the bounding box\n",
        "        center_x, center_y = x + w // 2, y + h // 2\n",
        "        color = image_rgb[center_y, center_x]  # Get the RGB color\n",
        "        hex_color = rgb_to_hex(color)  # Convert to hex\n",
        "\n",
        "        # Skip black (#000000)\n",
        "        if hex_color.lower() == \"#000000\":\n",
        "            continue\n",
        "\n",
        "        # Map hex color to color name\n",
        "        color_name = color_map.get(hex_color.lower(), hex_color)  # Default to hex if not found\n",
        "\n",
        "        # Append results\n",
        "        bounding_boxes.append((color_name, center_x, center_y))\n",
        "\n",
        "# Display the results\n",
        "for color_name, x, y in bounding_boxes:\n",
        "    print(f\"{color_name}: {x}, {y}\")"
      ],
      "metadata": {
        "colab": {
          "base_uri": "https://localhost:8080/"
        },
        "id": "8MpSa87sOq6v",
        "outputId": "08a02011-9031-42c1-adbb-6f3219e19a88"
      },
      "execution_count": null,
      "outputs": [
        {
          "output_type": "stream",
          "name": "stdout",
          "text": [
            "Cyan: 4668, 3284\n",
            "Magenta: 5203, 700\n",
            "White: 3894, 718\n",
            "Yellow: 5070, 3311\n",
            "Cyan: 4668, 3284\n",
            "Green: 3629, 2662\n",
            "Orange: 5238, 1194\n",
            "White: 3894, 718\n",
            "Yellow: 5070, 3311\n",
            "Orange: 5238, 1106\n",
            "White: 3885, 599\n"
          ]
        }
      ]
    }
  ]
}